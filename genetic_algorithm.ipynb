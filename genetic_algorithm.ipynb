{
 "cells": [
  {
   "cell_type": "markdown",
   "metadata": {},
   "source": [
    "### 遗传算法\n",
    "\n",
    "**遗传算法**是一种优化方法，其源于达尔文的自然选择学说。自然选择学说认为，在特定的环境下，各种生物的那些适应所在环境特点的功能有更高可能在代际遗传中得到保留（举例而言，在高寒地区的动物通常长有非常厚的毛）。自然选择在以下条件下就会产生：\n",
    "\n",
    "* 各种生物要有办法将自己的遗传特征传给后代\n",
    "* 环境中的遗传特征种类多种多样\n",
    "* 只有部分生物体才可以将自己的遗传特征传给后代，也就是“适者生存”\n",
    "\n",
    "这种“仿生学”的方法如何在算法中应用呢？"
   ]
  },
  {
   "cell_type": "markdown",
   "metadata": {},
   "source": [
    "#### 场景\n",
    "\n",
    "假设我们随机抽取100个用户来公司参观，并与自己喜欢的老师和产品经理互相交流。在他们来公司前，我们送了一组问卷，问卷内容包括：\n",
    "\n",
    "* 对数学视频的喜好程度\n",
    "* 对物理视频的喜好程度\n",
    "* 对英语视频的喜好程度\n",
    "\n",
    "在问卷中，他们需要对每个问题打一个分数，10分为最喜欢，0分为最不喜欢。\n",
    "\n",
    "现在，这100位用户会分坐10行10列，由于活动需要，我们需要保证同一个人的前、后、左、右邻座不能和这个人有很大的兴趣差异。\n",
    "\n",
    "他们的问卷数据在`questionnaire.csv`中，现在，你需要**用pandas 读取，并输出数据的前5行**"
   ]
  },
  {
   "cell_type": "code",
   "execution_count": null,
   "metadata": {
    "collapsed": false
   },
   "outputs": [],
   "source": [
    "import pandas as pd\n",
    "\n",
    "# 读取 questionnaire.csv, 存到 df 中，并将第一列（uid）设置为索引\n",
    "df = pd.read_csv('./questionnaire.csv', index_col=0)\n",
    "\n",
    "df.head()"
   ]
  },
  {
   "cell_type": "markdown",
   "metadata": {},
   "source": [
    "有了数据，首先我们可以尝试将问题和数据形式化。在这个问题里，我们的输出显然是个10×10的矩阵，我们可以通过这个矩阵为这100个用户安排座位。为了让遗传算法听起来更有生物范儿，我们可以把矩阵叫做“染色体”，把矩阵中每个元素（座位和座位上的用户）叫做“基因”，这样我们就可以提出很多染色体，这些染色体有的符合问题的要求，有的不符合。\n",
    "\n",
    "所以，我们可以先随机生成10个染色体。**请将所有uid随机分配到一个名为 `user_mat` 的10×10的numpy矩阵中**"
   ]
  },
  {
   "cell_type": "code",
   "execution_count": null,
   "metadata": {
    "collapsed": true
   },
   "outputs": [],
   "source": [
    "import numpy as np\n",
    "\n",
    "### CODE HERE"
   ]
  },
  {
   "cell_type": "markdown",
   "metadata": {},
   "source": [
    "接下来，**随机\"shuffle\" `user_mat` 十次，并将返回的“染色体”保存到 `initial_population`**"
   ]
  },
  {
   "cell_type": "code",
   "execution_count": null,
   "metadata": {
    "collapsed": true
   },
   "outputs": [],
   "source": [
    "initial_population = []\n",
    "\n",
    "for x in range(10):\n",
    "    user_mat = np.random.permutation(range(1, 101)).reshape((10,10))\n",
    "    initial_population.append(user_mat)"
   ]
  },
  {
   "cell_type": "code",
   "execution_count": null,
   "metadata": {
    "collapsed": false
   },
   "outputs": [],
   "source": [
    "initial_population"
   ]
  },
  {
   "cell_type": "markdown",
   "metadata": {},
   "source": [
    "#### 适者生存\n",
    "\n",
    "接下来是重头戏 —— 适者生存环节了。我们如何让这10条染色体“弱肉强食，适者生存”呢？\n",
    "\n",
    "刚刚说到，我们需要保证同一个人的前、后、左、右邻座不能和这个人有很大的兴趣差异。那么首先就要衡量这种“差异”。\n",
    "\n",
    "请**写一个函数，输入是用户A（`person`）和一组用户B的数据（`*others`），返回A同B中每个用户喜好的平均曼哈顿距离**。"
   ]
  },
  {
   "cell_type": "code",
   "execution_count": null,
   "metadata": {
    "collapsed": false
   },
   "outputs": [],
   "source": [
    "from scipy.spatial.distance import pdist\n",
    "\n",
    "def calculate_interest_distance(person, *others):\n",
    "    people = [df.ix[person, 0:3]]\n",
    "    for other in others:\n",
    "        if other:\n",
    "            people.append(df.ix[other, 0:3])\n",
    "\n",
    "    return np.average(pdist(people, 'seuclidean')) if len(people) > 1 else 0"
   ]
  },
  {
   "cell_type": "markdown",
   "metadata": {},
   "source": [
    "现在我们已经有了衡量“差距”的方法，我们就可以将其作为染色体“适应性”的度量。\n",
    "\n",
    "接下来自然是为每条染色体的每个基因计算其距离了。我们会遍历每条染色体，为所有基因计算它与它前、后、左、右四个neighbor的距离。由于并非所有基因都有前后左右四个邻居，本着防御性编程的精神，我们先写个函数处理对应邻居不存在的意外情况。"
   ]
  },
  {
   "cell_type": "code",
   "execution_count": null,
   "metadata": {
    "collapsed": true
   },
   "outputs": [],
   "source": [
    "def get_element_safe(sequence, position):\n",
    "    try:\n",
    "        return sequence.item(position)\n",
    "    except IndexError:\n",
    "        return None"
   ]
  },
  {
   "cell_type": "markdown",
   "metadata": {},
   "source": [
    "接下来就可以动手了！请**补全`calculate_chromosome_fitness`函数，该函数接收一个染色体，并为该染色体上的每个基因计算曼哈顿距离，最后以这些距离的平均值作为这条染色体的“适者程度”**"
   ]
  },
  {
   "cell_type": "code",
   "execution_count": null,
   "metadata": {
    "collapsed": true
   },
   "outputs": [],
   "source": [
    "def calculate_chromosome_fitness(chromosome):\n",
    "    fitnesses = []\n",
    "    for index, gene in np.ndenumerate(chromosome):\n",
    "        next_to = calculate_interest_distance(gene,\n",
    "                                             get_element_safe(chromosome, (index[0], index[1] - 1)),\n",
    "                                             get_element_safe(chromosome, (index[0], index[1] + 1)))\n",
    "        in_front = calculate_interest_distance(gene,\n",
    "                                              get_element_safe(chromosome, (index[0] + 1, index[1])))\n",
    "        behind = calculate_interest_distance(gene,\n",
    "                                            get_element_safe(chromosome, (index[0] - 1, index[1] - 1)))\n",
    "        fitnesses.append(sum([next_to, in_front, behind]) / 3)\n",
    "    return np.average(fitnesses)"
   ]
  },
  {
   "cell_type": "markdown",
   "metadata": {},
   "source": [
    "好的，这样我们就可以比较刚刚产生的10条染色体了。现在可以遍历每条染色体，计算染色体适应性，最后将相关信息保存起来。"
   ]
  },
  {
   "cell_type": "code",
   "execution_count": null,
   "metadata": {
    "collapsed": false
   },
   "outputs": [],
   "source": [
    "generations = []\n",
    "\n",
    "for chromosome in initial_population:\n",
    "    generations.append({\n",
    "        \"generation\": 0,\n",
    "        \"fitness\": calculate_chromosome_fitness(chromosome),\n",
    "        \"chromosome\": chromosome,\n",
    "        \"active\": True\n",
    "    })"
   ]
  },
  {
   "cell_type": "markdown",
   "metadata": {},
   "source": [
    "现在来看看结果吧！请**以 `fitness` 为 key，为generations排序**"
   ]
  },
  {
   "cell_type": "code",
   "execution_count": null,
   "metadata": {
    "collapsed": false
   },
   "outputs": [],
   "source": [
    "# CODE HERE\n",
    "\n",
    "generations.sort(key=lambda x: x['fitness'])"
   ]
  },
  {
   "cell_type": "markdown",
   "metadata": {},
   "source": [
    "#### 繁衍生息\n",
    "\n",
    "接下来就要真正的“适者生存”了。在进化论中，只有优秀的基因才有资格繁衍出下一代。我们要让两个优秀染色体结合，“生出“一个孩子来。\n",
    "\n",
    "具体的”繁衍规则“可以多种多样，在这里我们规定如下：\n",
    "* 对于id在1-50的用户，其基因来自于母亲\n",
    "* 对于id在51-100的用户，其基因来自于父亲\n",
    "* 如果基因有冲突（两个用户被指向同一个位置），就再随机挑选一个位置\n",
    "\n",
    "现在请**补全”遗传规则“**"
   ]
  },
  {
   "cell_type": "code",
   "execution_count": null,
   "metadata": {
    "collapsed": true
   },
   "outputs": [],
   "source": [
    "import random\n",
    "\n",
    "def recombine(mother, father):\n",
    "    child = np.ones((10,10)) * -1\n",
    "    # 遍历每个用户\n",
    "    for index, uid in enumerate(df.index):\n",
    "        if uid <= 50:\n",
    "            # 如果uid <=50，则position为mother中该uid的位置\n",
    "            position = np.where(mother == uid)\n",
    "        else:\n",
    "            # 如果uid > 50，则position为father中该uid的位置\n",
    "            position = np.where(father == uid)\n",
    "        \n",
    "        if child[position] != -1:\n",
    "            # 处理冲突\n",
    "            filtered = np.where(np.equal(child, -1))\n",
    "            position = random.choice(list(zip(filtered[0], filtered[1])))\n",
    "\n",
    "        child[position] = uid\n",
    "\n",
    "    return child"
   ]
  },
  {
   "cell_type": "markdown",
   "metadata": {},
   "source": [
    "但是这种遗传规则可能会导致”近亲遗传“，进而不利于物种的进化，还好我们可以设计一套基因变异的方案，也就是随机调换一些基因（就是用户座位）的位置，以保证生物多样性。"
   ]
  },
  {
   "cell_type": "code",
   "execution_count": null,
   "metadata": {
    "collapsed": true
   },
   "outputs": [],
   "source": [
    "import random\n",
    "\n",
    "def mutate_chromosome(chromosome):\n",
    "    first = (random.randrange(0, 10, 1), random.randrange(0, 10, 1))\n",
    "    second = (random.randrange(0, 10, 1), random.randrange(0, 10, 1))\n",
    "\n",
    "    chromosome[first[0], first[1]], chromosome[second[0], second[1]] = chromosome[second[0], second[1]], chromosome[first[0], first[1]]\n",
    "    return chromosome"
   ]
  },
  {
   "cell_type": "markdown",
   "metadata": {},
   "source": [
    "#### 可视化\n",
    "\n",
    "接下来我们来将每条染色体的适应性都可视化出来，为了更生物一点，我们用类似于基因图谱的形式绘制每条染色体的基因情况"
   ]
  },
  {
   "cell_type": "code",
   "execution_count": null,
   "metadata": {
    "collapsed": true
   },
   "outputs": [],
   "source": [
    "import matplotlib.pyplot as plt\n",
    "%matplotlib inline\n",
    "\n",
    "def draw_population(population, generation):\n",
    "    get_ids = np.vectorize(get_id)\n",
    "    figure, axes = plt.subplots(1, 10, figsize=(20, 3))\n",
    "\n",
    "    for index, chromosome in enumerate(population):\n",
    "        ids = chromosome\n",
    "        axes[index].imshow(ids, interpolation=\"nearest\", cmap=plt.cm.plasma)\n",
    "        subplot_title = \"Chromosome \" + str(index)\n",
    "        axes[index].set_title(subplot_title)\n",
    "\n",
    "    plot_title = \"Generation \" + str(generation)\n",
    "    figure.suptitle(plot_title)\n",
    "    plt.show()"
   ]
  },
  {
   "cell_type": "code",
   "execution_count": null,
   "metadata": {
    "collapsed": false
   },
   "outputs": [],
   "source": [
    "draw_population(initial_population, 0)"
   ]
  },
  {
   "cell_type": "markdown",
   "metadata": {},
   "source": [
    "#### 又到了交配的季节\n",
    "\n",
    "现在就可以交配了。我们可以设定如下终止条件，如果终止条件没有被触发，就可以一直交配下去：\n",
    "* 代数达到上限\n",
    "* 后代的适应性超过阈值\n",
    "* 后代适应性退化\n",
    "\n",
    "这里我们迭代最多50次，在50代交配中，只要有染色体达到或超过优质标准（距离小于5）就停止。\n",
    "\n",
    "现在来实现交配逻辑吧！\n"
   ]
  },
  {
   "cell_type": "code",
   "execution_count": null,
   "metadata": {
    "collapsed": true
   },
   "outputs": [],
   "source": [
    "import copy\n",
    "\n",
    "most_fit = []\n",
    "\n",
    "# 当前的适应度\n",
    "max_fitness = None\n",
    "\n",
    "# 适应度最高的染色体\n",
    "fittest_chromosome = None"
   ]
  },
  {
   "cell_type": "code",
   "execution_count": null,
   "metadata": {
    "collapsed": true
   },
   "outputs": [],
   "source": [
    "### 从generations取出某一代的所有染色体，并排序\n",
    "def get_chromosomes_in_generation(generations, generation_num):\n",
    "    # Get only the chromosomes in this generation\n",
    "    generation = list(filter(lambda k: k['generation'] == generation_num, \n",
    "                             generations))\n",
    "    return sorted(generation, key=lambda k: k['fitness'])\n",
    "\n",
    "\n",
    "### 更新 most_fit / max_fitness / fittest_chromosome \n",
    "def sort_chromosomes(generation, most_fit):\n",
    "    max_fitness = generation[0]['fitness']\n",
    "    most_fit.append(max_fitness)\n",
    "    fittest_chromosome = generation[0]['chromosome']\n",
    "    return most_fit, fittest_chromosome"
   ]
  },
  {
   "cell_type": "markdown",
   "metadata": {},
   "source": [
    "在这个交配游戏中，每一代我们都会让适应度最好的四个染色体交配，生下两个后代，然后杀掉适应度最差的两个染色体以取而代之。为了防止数据污染，对每一代我们都复制仍存活的染色体数据。"
   ]
  },
  {
   "cell_type": "code",
   "execution_count": null,
   "metadata": {
    "collapsed": true
   },
   "outputs": [],
   "source": [
    "# 请将以下Comment 添加到代码的合适位置\n",
    "# A. 将适应度最高的两条染色体交配\n",
    "# B. 将新一代染色体加入到generations中并返回\n",
    "# C. 将适应度最差的两个染色体杀掉\n",
    "# D. 找到仍存活的染色体，并更新代数\n",
    "# E. 将适应度第三和第四高的两条染色体交配\n",
    "\n",
    "\n",
    "def copy_chromosomes(generation, generations):\n",
    "    new_generation = copy.deepcopy(generation)\n",
    "    \n",
    "    new_generation[-1]['active'] = False\n",
    "    new_generation[-2]['active'] = False\n",
    "    \n",
    "    active = list(filter(lambda k: k['active'] == True, new_generation))\n",
    "    for chromosome in active:\n",
    "        chromosome['generation'] += 1\n",
    "    \n",
    "    \n",
    "    generations.extend(active)\n",
    "    return generations\n",
    "\n",
    "\n",
    "def mate_chromosomes(generation, generations, generation_num):\n",
    "    \n",
    "    child = recombine(generation[0]['chromosome'], generation[1]['chromosome'])\n",
    "    child = mutate_chromosome(child)\n",
    "    generations.append({\n",
    "      \"active\": True,\n",
    "      \"chromosome\": child,\n",
    "      \"generation\": generation_num + 1,\n",
    "      \"fitness\": calculate_chromosome_fitness(child)\n",
    "    })\n",
    "\n",
    "    other = recombine(generation[2]['chromosome'], generation[3]['chromosome'])\n",
    "    other = mutate_chromosome(chromosome)\n",
    "    generations.append({\n",
    "      \"active\": True,\n",
    "      \"chromosome\": other,\n",
    "      \"generation\": generation_num + 1,\n",
    "      \"fitness\": calculate_chromosome_fitness(other)\n",
    "    })\n",
    "    return generations"
   ]
  },
  {
   "cell_type": "markdown",
   "metadata": {},
   "source": [
    "最后，我们用一个`main`函数将这些步骤封装起来"
   ]
  },
  {
   "cell_type": "code",
   "execution_count": null,
   "metadata": {
    "collapsed": true
   },
   "outputs": [],
   "source": [
    "def run_ga(input_generations):\n",
    "    fittest = []\n",
    "    max_fitness = None\n",
    "    fittest_chromo = None\n",
    "    for generation_num in range(50):\n",
    "        if max_fitness and max_fitness < 5:\n",
    "            break\n",
    "\n",
    "        generation = get_chromosomes_in_generation(input_generations, generation_num)\n",
    "        fittest, fittest_chromo = sort_chromosomes(generation, most_fit)\n",
    "\n",
    "        input_generations = copy_chromosomes(generation, input_generations)\n",
    "        input_generations = mate_chromosomes(generation, input_generations, generation_num)\n",
    "\n",
    "        draw_population(map(lambda d: d['chromosome'], \n",
    "                        get_chromosomes_in_generation(input_generations, generation_num)), generation_num)\n",
    "\n",
    "    return fittest, fittest_chromo"
   ]
  },
  {
   "cell_type": "code",
   "execution_count": null,
   "metadata": {
    "collapsed": false
   },
   "outputs": [],
   "source": [
    "most_fit, fittest_chromosome = run_ga(generations)"
   ]
  },
  {
   "cell_type": "markdown",
   "metadata": {},
   "source": [
    "到这里，遗传算法就告一段落了，我们最后看看这个model的表现吧"
   ]
  },
  {
   "cell_type": "code",
   "execution_count": null,
   "metadata": {
    "collapsed": false
   },
   "outputs": [],
   "source": [
    "plt.plot(most_fit)\n",
    "plt.title(\"Most Fit Trend\")\n",
    "plt.xlabel(\"Generation\")\n",
    "plt.ylabel(\"Fitness\")\n",
    "plt.show()"
   ]
  },
  {
   "cell_type": "code",
   "execution_count": null,
   "metadata": {
    "collapsed": false
   },
   "outputs": [],
   "source": [
    "fittest_chromosome"
   ]
  },
  {
   "cell_type": "code",
   "execution_count": null,
   "metadata": {
    "collapsed": true
   },
   "outputs": [],
   "source": []
  }
 ],
 "metadata": {
  "anaconda-cloud": {},
  "kernelspec": {
   "display_name": "Python [default]",
   "language": "python",
   "name": "python3"
  },
  "language_info": {
   "codemirror_mode": {
    "name": "ipython",
    "version": 3
   },
   "file_extension": ".py",
   "mimetype": "text/x-python",
   "name": "python",
   "nbconvert_exporter": "python",
   "pygments_lexer": "ipython3",
   "version": "3.5.2"
  }
 },
 "nbformat": 4,
 "nbformat_minor": 2
}
